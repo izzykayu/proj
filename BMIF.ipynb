{
 "cells": [
  {
   "cell_type": "code",
   "execution_count": 8,
   "metadata": {
    "collapsed": true
   },
   "outputs": [],
   "source": [
    "import pandas as pd\n",
    "import numpy as np\n",
    "import matplotlib.pyplot as plt\n",
    "from scipy.stats import entropy\n",
    "import os\n",
    "\n",
    "%matplotlib inline"
   ]
  },
  {
   "cell_type": "code",
   "execution_count": 9,
   "metadata": {},
   "outputs": [
    {
     "name": "stdout",
     "output_type": "stream",
     "text": [
      "/Users/data/\n"
     ]
    }
   ],
   "source": [
    "cwd = os.getcwd()\n",
    "datadir = '/'.join(cwd.split('/')[0:-1]) + '/data/'\n",
    "print(datadir)"
   ]
  },
  {
   "cell_type": "code",
   "execution_count": 12,
   "metadata": {},
   "outputs": [],
   "source": [
    "df1=pd.read_csv(\"Desktop/locationcsv.csv\")"
   ]
  },
  {
   "cell_type": "code",
   "execution_count": 11,
   "metadata": {},
   "outputs": [
    {
     "name": "stdout",
     "output_type": "stream",
     "text": [
      "                           location\n",
      "0                       Acid Island\n",
      "1                         stone, uk\n",
      "2                                NC\n",
      "3                                UW\n",
      "4                            London\n",
      "5                fictive psychosis \n",
      "6                      Indiana, USA\n",
      "7                       Raleigh, NC\n",
      "8                    United Kingdom\n",
      "9         iPhone: 0.000000,0.000000\n",
      "10                               UK\n",
      "11             Melbourne, Australia\n",
      "12                    louisville KY\n",
      "13                               NY\n",
      "14                         Indy, IN\n",
      "15                    Lancaster, CA\n",
      "16                             hell\n",
      "17              Toronto, ON, Canada\n",
      "18      Claremont, Perth, Australia\n",
      "19              South Carolina, USA\n",
      "20                        Manhattan\n",
      "21                          Cardiff\n",
      "22                          Chicago\n",
      "23                        Minnesota\n",
      "24                          USA~ OK\n",
      "25                       Tigard, OR\n",
      "26                           London\n",
      "27                          Indiana\n",
      "28         Somerset/Dorset, England\n",
      "29                  Madison, Wi USA\n",
      "..                              ...\n",
      "837     iPhone: 51.448024,-0.001808\n",
      "838        Irish girl in Surrey, UK\n",
      "839                    Newcastle UK\n",
      "840                 Ontario, Canada\n",
      "841                       Hinchtown\n",
      "842              Oklahoma City, OK \n",
      "843               satan's buttcrack\n",
      "844                          London\n",
      "845                      tewkesbury\n",
      "846                             NYC\n",
      "847                         Canada!\n",
      "848                           TEXAS\n",
      "849                      Lancashire\n",
      "850                Barnham, England\n",
      "851                              UK\n",
      "852                       Suffolk. \n",
      "853                     SF Bay Area\n",
      "854                              uk\n",
      "855                           bucks\n",
      "856                         Chicago\n",
      "857                        Brooklyn\n",
      "858  Zanesville, OH to St. Louis,MO\n",
      "859       instagram: mollie_woodier\n",
      "860                     Chicago, IL\n",
      "861             Sterling heights mi\n",
      "862                      Denver, CO\n",
      "863                     In transit \n",
      "864                          London\n",
      "865     everywhere life takes me.. \n",
      "866                     My Computer\n",
      "\n",
      "[867 rows x 1 columns]\n"
     ]
    }
   ],
   "source": [
    "print(df1)"
   ]
  },
  {
   "cell_type": "code",
   "execution_count": 14,
   "metadata": {},
   "outputs": [],
   "source": [
    "dfstates=pd.read_csv(\"Desktop/us_states.csv\")"
   ]
  },
  {
   "cell_type": "code",
   "execution_count": 16,
   "metadata": {},
   "outputs": [
    {
     "name": "stdout",
     "output_type": "stream",
     "text": [
      "           ALABAMA         Alabama  AL\n",
      "0           ALASKA          Alaska  AK\n",
      "1          ARIZONA         Arizona  AZ\n",
      "2         ARKANSAS        Arkansas  AR\n",
      "3       CALIFORNIA      California  CA\n",
      "4         COLORADO        Colorado  CO\n",
      "5      CONNECTICUT     Connecticut  CT\n",
      "6         DELAWARE        Delaware  DE\n",
      "7          FLORIDA         Florida  FL\n",
      "8          GEORGIA         Georgia  GA\n",
      "9           HAWAII          Hawaii  HI\n",
      "10           IDAHO           Idaho  ID\n",
      "11        ILLINOIS        Illinois  IL\n",
      "12         INDIANA         Indiana  IN\n",
      "13            IOWA            Iowa  IA\n",
      "14          KANSAS          Kansas  KS\n",
      "15        KENTUCKY        Kentucky  KY\n",
      "16       LOUISIANA       Louisiana  LA\n",
      "17           MAINE           Maine  ME\n",
      "18        MARYLAND        Maryland  MD\n",
      "19   MASSACHUSETTS   Massachusetts  MA\n",
      "20        MICHIGAN        Michigan  MI\n",
      "21       MINNESOTA       Minnesota  MN\n",
      "22     MISSISSIPPI     Mississippi  MS\n",
      "23        MISSOURI        Missouri  MO\n",
      "24         MONTANA         Montana  MT\n",
      "25        NEBRASKA        Nebraska  NE\n",
      "26          NEVADA          Nevada  NV\n",
      "27   NEW HAMPSHIRE   New Hampshire  NH\n",
      "28      NEW JERSEY      New Jersey  NJ\n",
      "29      NEW MEXICO      New Mexico  NM\n",
      "30        NEW YORK        New York  NY\n",
      "31  NORTH CAROLINA  North Carolina  NC\n",
      "32    NORTH DAKOTA    North Dakota  ND\n",
      "33            OHIO            Ohio  OH\n",
      "34        OKLAHOMA        Oklahoma  OK\n",
      "35          OREGON          Oregon  OR\n",
      "36    PENNSYLVANIA    Pennsylvania  PA\n",
      "37    RHODE ISLAND    Rhode Island  RI\n",
      "38  SOUTH CAROLINA  South Carolina  SC\n",
      "39    SOUTH DAKOTA    South Dakota  SD\n",
      "40       TENNESSEE       Tennessee  TN\n",
      "41           TEXAS           Texas  TX\n",
      "42            UTAH            Utah  UT\n",
      "43         VERMONT         Vermont  VT\n",
      "44        VIRGINIA        Virginia  VA\n",
      "45      WASHINGTON      Washington  WA\n",
      "46   WEST VIRGINIA   West Virginia  WV\n",
      "47       WISCONSIN       Wisconsin  WI\n",
      "48         WYOMING         Wyoming  WY\n"
     ]
    }
   ],
   "source": [
    "print(dfstates)\n"
   ]
  },
  {
   "cell_type": "code",
   "execution_count": 21,
   "metadata": {},
   "outputs": [
    {
     "data": {
      "text/plain": [
       "True"
      ]
     },
     "execution_count": 21,
     "metadata": {},
     "output_type": "execute_result"
    }
   ],
   "source": [
    "'NC' in (dfstates.values)"
   ]
  },
  {
   "cell_type": "code",
   "execution_count": 22,
   "metadata": {},
   "outputs": [
    {
     "name": "stdout",
     "output_type": "stream",
     "text": [
      "Index(['location'], dtype='object')\n"
     ]
    }
   ],
   "source": [
    "print(df1.columns)"
   ]
  },
  {
   "cell_type": "code",
   "execution_count": 24,
   "metadata": {},
   "outputs": [
    {
     "data": {
      "text/plain": [
       "False"
      ]
     },
     "execution_count": 24,
     "metadata": {},
     "output_type": "execute_result"
    }
   ],
   "source": [
    "'London' in (dfstates.values)"
   ]
  },
  {
   "cell_type": "code",
   "execution_count": null,
   "metadata": {
    "collapsed": true
   },
   "outputs": [],
   "source": []
  }
 ],
 "metadata": {
  "kernelspec": {
   "display_name": "Python 3",
   "language": "python",
   "name": "python3"
  },
  "language_info": {
   "codemirror_mode": {
    "name": "ipython",
    "version": 3
   },
   "file_extension": ".py",
   "mimetype": "text/x-python",
   "name": "python",
   "nbconvert_exporter": "python",
   "pygments_lexer": "ipython3",
   "version": "3.6.3"
  }
 },
 "nbformat": 4,
 "nbformat_minor": 2
}
